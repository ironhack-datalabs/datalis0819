{
 "cells": [
  {
   "cell_type": "code",
   "execution_count": 2,
   "metadata": {},
   "outputs": [],
   "source": [
    "#1. Import the NUMPY package under the name np.\n",
    "\n",
    "import numpy as np\n"
   ]
  },
  {
   "cell_type": "code",
   "execution_count": 3,
   "metadata": {},
   "outputs": [
    {
     "data": {
      "text/plain": [
       "'1.16.4'"
      ]
     },
     "execution_count": 3,
     "metadata": {},
     "output_type": "execute_result"
    }
   ],
   "source": [
    "#2. Print the NUMPY version and the configuration.\n",
    "\n",
    "np.version.version\n"
   ]
  },
  {
   "cell_type": "code",
   "execution_count": 4,
   "metadata": {},
   "outputs": [],
   "source": [
    "#3. Generate a 2x3x5 3-dimensional array with random values. Assign the array to variable \"a\"\n",
    "\n",
    "a=np.random.random((2,3,5))\n",
    "\n",
    "# Challenge: there are at least three easy ways that use numpy to generate random arrays. How many ways can you find?\n"
   ]
  },
  {
   "cell_type": "code",
   "execution_count": 5,
   "metadata": {},
   "outputs": [
    {
     "data": {
      "text/plain": [
       "array([[[0.24781208, 0.95361295, 0.6597609 , 0.82154109, 0.9600985 ],\n",
       "        [0.15627624, 0.96528338, 0.16123838, 0.37821321, 0.05293369],\n",
       "        [0.75628723, 0.0169338 , 0.02715257, 0.21955648, 0.9977765 ]],\n",
       "\n",
       "       [[0.21587652, 0.90177404, 0.32491287, 0.60958456, 0.79374542],\n",
       "        [0.36692654, 0.42090363, 0.29666983, 0.64249614, 0.42737415],\n",
       "        [0.15958388, 0.2694397 , 0.44544074, 0.93508601, 0.45897371]]])"
      ]
     },
     "execution_count": 5,
     "metadata": {},
     "output_type": "execute_result"
    }
   ],
   "source": [
    "#4. Print a.\n",
    "a"
   ]
  },
  {
   "cell_type": "code",
   "execution_count": 6,
   "metadata": {},
   "outputs": [],
   "source": [
    "#5. Create a 5x2x3 3-dimensional array with all values equaling 1.\n",
    "#Assign the array to variable \"b\"\n",
    "b=np.ones((5,2,3))"
   ]
  },
  {
   "cell_type": "code",
   "execution_count": 7,
   "metadata": {},
   "outputs": [
    {
     "data": {
      "text/plain": [
       "array([[[1., 1., 1.],\n",
       "        [1., 1., 1.]],\n",
       "\n",
       "       [[1., 1., 1.],\n",
       "        [1., 1., 1.]],\n",
       "\n",
       "       [[1., 1., 1.],\n",
       "        [1., 1., 1.]],\n",
       "\n",
       "       [[1., 1., 1.],\n",
       "        [1., 1., 1.]],\n",
       "\n",
       "       [[1., 1., 1.],\n",
       "        [1., 1., 1.]]])"
      ]
     },
     "execution_count": 7,
     "metadata": {},
     "output_type": "execute_result"
    }
   ],
   "source": [
    "#6. Print b.\n",
    "b"
   ]
  },
  {
   "cell_type": "code",
   "execution_count": 8,
   "metadata": {},
   "outputs": [
    {
     "data": {
      "text/plain": [
       "True"
      ]
     },
     "execution_count": 8,
     "metadata": {},
     "output_type": "execute_result"
    }
   ],
   "source": [
    "#7. Do a and b have the same size? How do you prove that in Python code?\n",
    "a.size==b.size"
   ]
  },
  {
   "cell_type": "code",
   "execution_count": 9,
   "metadata": {},
   "outputs": [
    {
     "name": "stdout",
     "output_type": "stream",
     "text": [
      "(2, 3, 5)\n",
      "(5, 2, 3)\n"
     ]
    }
   ],
   "source": [
    "#8. Are you able to add a and b? Why or why not?\n",
    "\n",
    "#no because the shapes do not match\n",
    "print(a.shape)\n",
    "print(b.shape)\n",
    "\n"
   ]
  },
  {
   "cell_type": "code",
   "execution_count": 10,
   "metadata": {},
   "outputs": [],
   "source": [
    "#9. Transpose b so that it has the same structure of a (i.e. become a 2x3x5 array). Assign the transposed array to varialbe \"c\".\n",
    "c=b.transpose((1,2,0))\n",
    "\n",
    "#5, which occupied the position 0, goes to 3rd dimension, so \"0\" in the transposed, occupies the 3rd position."
   ]
  },
  {
   "cell_type": "code",
   "execution_count": 11,
   "metadata": {},
   "outputs": [
    {
     "name": "stdout",
     "output_type": "stream",
     "text": [
      "a shape is: (2, 3, 5)\n",
      "c shape is: (2, 3, 5)\n"
     ]
    }
   ],
   "source": [
    "#10. Try to add a and c. Now it should work. Assign the sum to varialbe \"d\". But why does it work now\n",
    "print(\"a shape is:\", a.shape)\n",
    "print(\"c shape is:\", c.shape)\n",
    "\n",
    "d=a+c"
   ]
  },
  {
   "cell_type": "code",
   "execution_count": 12,
   "metadata": {},
   "outputs": [
    {
     "name": "stdout",
     "output_type": "stream",
     "text": [
      "a= [[[0.24781208 0.95361295 0.6597609  0.82154109 0.9600985 ]\n",
      "  [0.15627624 0.96528338 0.16123838 0.37821321 0.05293369]\n",
      "  [0.75628723 0.0169338  0.02715257 0.21955648 0.9977765 ]]\n",
      "\n",
      " [[0.21587652 0.90177404 0.32491287 0.60958456 0.79374542]\n",
      "  [0.36692654 0.42090363 0.29666983 0.64249614 0.42737415]\n",
      "  [0.15958388 0.2694397  0.44544074 0.93508601 0.45897371]]]\n",
      "d= [[[1.24781208 1.95361295 1.6597609  1.82154109 1.9600985 ]\n",
      "  [1.15627624 1.96528338 1.16123838 1.37821321 1.05293369]\n",
      "  [1.75628723 1.0169338  1.02715257 1.21955648 1.9977765 ]]\n",
      "\n",
      " [[1.21587652 1.90177404 1.32491287 1.60958456 1.79374542]\n",
      "  [1.36692654 1.42090363 1.29666983 1.64249614 1.42737415]\n",
      "  [1.15958388 1.2694397  1.44544074 1.93508601 1.45897371]]]\n"
     ]
    }
   ],
   "source": [
    "#11. Print a and d. Notice the difference and relation of the two array in terms of the values? Explain.\n",
    "print(\"a=\", a)\n",
    "print(\"d=\", d)\n",
    "\n",
    "#d is each value of \"a\" plus 1, which was what we had definied for array \"b\""
   ]
  },
  {
   "cell_type": "code",
   "execution_count": 13,
   "metadata": {},
   "outputs": [
    {
     "data": {
      "text/plain": [
       "array([[[0.24781208, 0.95361295, 0.6597609 , 0.82154109, 0.9600985 ],\n",
       "        [0.15627624, 0.96528338, 0.16123838, 0.37821321, 0.05293369],\n",
       "        [0.75628723, 0.0169338 , 0.02715257, 0.21955648, 0.9977765 ]],\n",
       "\n",
       "       [[0.21587652, 0.90177404, 0.32491287, 0.60958456, 0.79374542],\n",
       "        [0.36692654, 0.42090363, 0.29666983, 0.64249614, 0.42737415],\n",
       "        [0.15958388, 0.2694397 , 0.44544074, 0.93508601, 0.45897371]]])"
      ]
     },
     "execution_count": 13,
     "metadata": {},
     "output_type": "execute_result"
    }
   ],
   "source": [
    "#12. Multiply a and c. Assign the result to e.\n",
    "e=a*c\n",
    "e"
   ]
  },
  {
   "cell_type": "code",
   "execution_count": 14,
   "metadata": {},
   "outputs": [
    {
     "data": {
      "text/plain": [
       "array([[[ True,  True,  True,  True,  True],\n",
       "        [ True,  True,  True,  True,  True],\n",
       "        [ True,  True,  True,  True,  True]],\n",
       "\n",
       "       [[ True,  True,  True,  True,  True],\n",
       "        [ True,  True,  True,  True,  True],\n",
       "        [ True,  True,  True,  True,  True]]])"
      ]
     },
     "execution_count": 14,
     "metadata": {},
     "output_type": "execute_result"
    }
   ],
   "source": [
    "#13. Does e equal to a? Why or why not?\n",
    "e==a\n",
    "\n",
    "#because we are multiplying each value of \"a\" by one, so it remais the same number"
   ]
  },
  {
   "cell_type": "code",
   "execution_count": 15,
   "metadata": {},
   "outputs": [
    {
     "name": "stdout",
     "output_type": "stream",
     "text": [
      "1.9977764996505645\n",
      "1.0169337969471526\n",
      "1.4881088242809501\n"
     ]
    }
   ],
   "source": [
    "#14. Identify the max, min, and mean values in d. Assign those values to variables \"d_max\", \"d_min\", and \"d_mean\"\n",
    "d_max=np.max(d)\n",
    "d_min=np.min(d)\n",
    "d_mean=np.mean(d)\n",
    "print(d_max)\n",
    "print(d_min)\n",
    "print(d_mean)"
   ]
  },
  {
   "cell_type": "code",
   "execution_count": 16,
   "metadata": {},
   "outputs": [
    {
     "name": "stdout",
     "output_type": "stream",
     "text": [
      "[[[0.24781208 0.95361295 0.6597609  0.82154109 0.9600985 ]\n",
      "  [0.15627624 0.96528338 0.16123838 0.37821321 0.05293369]\n",
      "  [0.75628723 0.0169338  0.02715257 0.21955648 0.9977765 ]]\n",
      "\n",
      " [[0.21587652 0.90177404 0.32491287 0.60958456 0.79374542]\n",
      "  [0.36692654 0.42090363 0.29666983 0.64249614 0.42737415]\n",
      "  [0.15958388 0.2694397  0.44544074 0.93508601 0.45897371]]]\n"
     ]
    },
    {
     "data": {
      "text/plain": [
       "numpy.ndarray"
      ]
     },
     "execution_count": 16,
     "metadata": {},
     "output_type": "execute_result"
    }
   ],
   "source": [
    "#15. Now we want to label the values in d. First create an empty array \"f\" with the same shape (i.e. 2x3x5) as d using `np.empty`.\n",
    "f=np.empty([2, 3, 5])\n",
    "print(f)\n",
    "type(f)"
   ]
  },
  {
   "cell_type": "code",
   "execution_count": 41,
   "metadata": {},
   "outputs": [
    {
     "name": "stdout",
     "output_type": "stream",
     "text": [
      "\n",
      "Output array: \n",
      "\n",
      " [[[ 25  75  75  75  75]\n",
      "  [ 25  75  25  25  25]\n",
      "  [ 75   0  25  25 100]]\n",
      "\n",
      " [[ 25  75  25  75  75]\n",
      "  [ 25  25  25  75  25]\n",
      "  [ 25  25  25  75  25]]]\n"
     ]
    }
   ],
   "source": [
    "'''16. Populate the values in f. For each value in d, if it's larger than d_min but smaller than d_mean, assign 25 to the corresponding value in f.\n",
    "If a value in d is larger than d_mean but smaller than d_max, assign 75 to the corresponding value in f.\n",
    "If a value equals to d_mean, assign 50 to the corresponding value in f.\n",
    "Assign 0 to the corresponding value(s) in f for d_min in d.\n",
    "Assign 100 to the corresponding value(s) in f for d_max in d.\n",
    "In the end, f should have only the following values: 0, 25, 50, 75, and 100.\n",
    "Note: you don't have to use Numpy in this question.\n",
    "'''\n",
    "\n",
    "'''\n",
    "25 if (number>d_min and number<d_mean)\n",
    "75 if (number>d_mean and number<d_max)\n",
    "50 if (number==d_mean)\n",
    "0 if (number==d_min)\n",
    "100 if (number==dmax)\n",
    "'''\n",
    "\n",
    "\n",
    "\n",
    "'''\n",
    "def change_number (number):\n",
    "    if (number>d_min and number<d_mean):\n",
    "        return(25)\n",
    "    elif (number>d_mean and number<d_max):\n",
    "        return (75)\n",
    "    elif (number==d_mean):\n",
    "        return(50)\n",
    "    elif (number==d_min):\n",
    "        return (0)\n",
    "    else:\n",
    "        return (100)\n",
    "\n",
    "f=[change_number(i) for sub_list in d for lst in sub_list for i in lst]\n",
    "#f is a list, how can I do it whitout transforming into a list?\n",
    "print(type(f))\n",
    "\n",
    "print(f)\n",
    "\n",
    "f=(np.array(f)).reshape(2,3,5)\n",
    "\n",
    "print(f)\n",
    "'''\n",
    "\n",
    "\n",
    "'''\n",
    "find the matrix with the maximum\n",
    "matrix_max = d == d_max\n",
    "\n",
    "#max has value 100\n",
    "matrix_max = 100 * matrix_max\n",
    "print(matrix_max)\n",
    "\n",
    "matrix_mean = d == d_mean\n",
    "matrix_mean = 50 * matrix_mean\n",
    "print(matrix_mean)\n",
    "\n",
    "\n",
    "matrix_min_mean = (d<d_mean) * (d>d_min)\n",
    "matrix_min_mean = matrix_min_mean*25\n",
    "print(matrix_min_mean)\n",
    "\n",
    "matrix_max_mean=(d<d_max) * (d>d_mean)\n",
    "matrix_max_mean=matrix_max_mean*75\n",
    "print(matrix_max_mean)\n",
    "\n",
    "final_matrix=matrix_max_mean+matrix_min_mean+matrix_mean+matrix_max\n",
    "print(final_matrix)\n",
    "'''\n",
    "\n",
    "matrix_max = d == d_max\n",
    "matrix_mean = d >= d_mean\n",
    "matrix_more_min = d>d_min\n",
    "matrix_more_mean = d>d_mean \n",
    "\n",
    "f_fin = 25 * matrix_more_min + 25 * matrix_mean + 25 * matrix_more_mean + 25 * matrix_max\n",
    "print(\"\\nOutput array: \\n\\n\", f_fin)\n",
    "\n",
    "\n"
   ]
  },
  {
   "cell_type": "code",
   "execution_count": 93,
   "metadata": {},
   "outputs": [
    {
     "name": "stdout",
     "output_type": "stream",
     "text": [
      "[[[1.06960829 1.93701286 1.44026263 1.36951956 1.60693662]\n",
      "  [1.56097304 1.2361396  1.86086856 1.89858579 1.40592551]\n",
      "  [1.23099357 1.15469339 1.82316834 1.15255183 1.84324367]]\n",
      "\n",
      " [[1.40215505 1.21679655 1.58745592 1.1264603  1.30737119]\n",
      "  [1.7839973  1.85533137 1.36484617 1.62459929 1.17306184]\n",
      "  [1.18073225 1.68638654 1.78602503 1.6961053  1.08339538]]]\n",
      "[[[  0 100  25  25  75]\n",
      "  [ 75  25  75  75  25]\n",
      "  [ 25  25  75  25  75]]\n",
      "\n",
      " [[ 25  25  75  25  25]\n",
      "  [ 75  75  25  75  25]\n",
      "  [ 25  75  75  75  25]]]\n"
     ]
    }
   ],
   "source": [
    "'''#17. Print d and f. Do you have your expected f?\n",
    "For instance, if your d is:\n",
    "array([[[1.85836099, 1.67064465, 1.62576044, 1.40243961, 1.88454931],\n",
    "        [1.75354326, 1.69403643, 1.36729252, 1.61415071, 1.12104981],\n",
    "        [1.72201435, 1.1862918 , 1.87078449, 1.7726778 , 1.88180042]],\n",
    "\n",
    "       [[1.44747908, 1.31673383, 1.02000951, 1.52218947, 1.97066381],\n",
    "        [1.79129243, 1.74983003, 1.96028037, 1.85166831, 1.65450881],\n",
    "        [1.18068344, 1.9587381 , 1.00656599, 1.93402165, 1.73514584]]])\n",
    "\n",
    "Your f should be:\n",
    "array([[[ 75.,  75.,  75.,  25.,  75.],\n",
    "        [ 75.,  75.,  25.,  25.,  25.],\n",
    "        [ 75.,  25.,  75.,  75.,  75.]],\n",
    "\n",
    "       [[ 25.,  25.,  25.,  25., 100.],\n",
    "        [ 75.,  75.,  75.,  75.,  75.],\n",
    "        [ 25.,  75.,   0.,  75.,  75.]]])\n",
    "        '''\n",
    "\n",
    "print(d)\n",
    "print(f)"
   ]
  },
  {
   "cell_type": "code",
   "execution_count": 94,
   "metadata": {},
   "outputs": [
    {
     "name": "stdout",
     "output_type": "stream",
     "text": [
      "<class 'numpy.ndarray'>\n",
      "['D', 'E', 'A', 'A', 'B', 'B', 'A', 'B', 'B', 'A', 'A', 'A', 'B', 'A', 'B', 'A', 'A', 'B', 'A', 'A', 'B', 'B', 'A', 'B', 'A', 'A', 'B', 'B', 'B', 'A']\n",
      "[[[  0 100  25  25  75]\n",
      "  [ 75  25  75  75  25]\n",
      "  [ 25  25  75  25  75]]\n",
      "\n",
      " [[ 25  25  75  25  25]\n",
      "  [ 75  75  25  75  25]\n",
      "  [ 25  75  75  75  25]]]\n"
     ]
    }
   ],
   "source": [
    "'''\n",
    "#18. Bonus question: instead of using numbers (i.e. 0, 25, 50, 75, and 100), how to use string values \n",
    "(\"A\", \"B\", \"C\", \"D\", and \"E\") to label the array elements? You are expecting the result to be:\n",
    "array([[[ 'D',  'D',  'D',  'B',  'D'],\n",
    "        [ 'D',  'D',  'B',  'B',  'B'],\n",
    "        [ 'D',  'B',  'D',  'D',  'D']],\n",
    "\n",
    "       [[ 'B',  'B',  'B',  'B',  'E'],\n",
    "        [ 'D',  'D',  'D',  'D',  'D'],\n",
    "        [ 'B',  'D',   'A',  'D', 'D']]])\n",
    "Again, you don't need Numpy in this question.\n",
    "'''\n",
    "\n",
    "def change_number_letter (number):\n",
    "    if (number>d_min and number<d_mean):\n",
    "        return(\"A\")\n",
    "    elif (number>d_mean and number<d_max):\n",
    "        return (\"B\")\n",
    "    elif (number==d_mean):\n",
    "        return(\"C\")\n",
    "    elif (number==d_min):\n",
    "        return (\"D\")\n",
    "    else:\n",
    "        return (\"E\")\n",
    "\n",
    "g=[change_number_letter(i) for sub_list in d for lst in sub_list for i in lst]\n",
    "#f is a list, how can I do it whitout transforming into a list?\n",
    "print(type(f))\n",
    "\n",
    "print(g)\n",
    "\n",
    "g=(np.array(f)).reshape(2,3,5)\n",
    "\n",
    "print(g)"
   ]
  },
  {
   "cell_type": "code",
   "execution_count": null,
   "metadata": {},
   "outputs": [],
   "source": []
  },
  {
   "cell_type": "code",
   "execution_count": null,
   "metadata": {},
   "outputs": [],
   "source": []
  }
 ],
 "metadata": {
  "kernelspec": {
   "display_name": "Python 3",
   "language": "python",
   "name": "python3"
  },
  "language_info": {
   "codemirror_mode": {
    "name": "ipython",
    "version": 3
   },
   "file_extension": ".py",
   "mimetype": "text/x-python",
   "name": "python",
   "nbconvert_exporter": "python",
   "pygments_lexer": "ipython3",
   "version": "3.7.4"
  }
 },
 "nbformat": 4,
 "nbformat_minor": 2
}
